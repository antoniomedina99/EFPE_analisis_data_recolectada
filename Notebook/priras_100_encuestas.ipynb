{
 "cells": [
  {
   "cell_type": "code",
   "execution_count": 3,
   "metadata": {},
   "outputs": [],
   "source": [
    "# import libraries\n",
    "import pandas as pd\n",
    "import numpy as np\n",
    "import seaborn as sns\n",
    "import matplotlib.pyplot as plt\n",
    "from copy import deepcopy"
   ]
  },
  {
   "cell_type": "code",
   "execution_count": 4,
   "metadata": {},
   "outputs": [
    {
     "data": {
      "text/html": [
       "<div>\n",
       "<style scoped>\n",
       "    .dataframe tbody tr th:only-of-type {\n",
       "        vertical-align: middle;\n",
       "    }\n",
       "\n",
       "    .dataframe tbody tr th {\n",
       "        vertical-align: top;\n",
       "    }\n",
       "\n",
       "    .dataframe thead th {\n",
       "        text-align: right;\n",
       "    }\n",
       "</style>\n",
       "<table border=\"1\" class=\"dataframe\">\n",
       "  <thead>\n",
       "    <tr style=\"text-align: right;\">\n",
       "      <th></th>\n",
       "      <th>Disponibilidad a tomar cursos online</th>\n",
       "      <th>Areas de interes</th>\n",
       "      <th>Otras areas de interes</th>\n",
       "      <th>En qué red social confía más</th>\n",
       "      <th>Valor a pagar maximo mensual</th>\n",
       "      <th>Valor a pagar maximo anual</th>\n",
       "      <th>¿De haber tomado alguno curso, que tan interesad@ está en seguir capacitándose con nosotros</th>\n",
       "      <th>Probabilidad de recomendación</th>\n",
       "      <th>¿Que cambiaria a nuestra plataforma de clases?</th>\n",
       "      <th>Nivel educativo</th>\n",
       "      <th>Nombre</th>\n",
       "      <th>Edad</th>\n",
       "      <th>Ciudad</th>\n",
       "      <th>Género</th>\n",
       "    </tr>\n",
       "  </thead>\n",
       "  <tbody>\n",
       "    <tr>\n",
       "      <th>0</th>\n",
       "      <td>5</td>\n",
       "      <td>Ciencias políticas, Contratación Estatal, Fina...</td>\n",
       "      <td>NaN</td>\n",
       "      <td>Facebook, Instagram, WhatsApp</td>\n",
       "      <td>Entre 100 y 200 mil pesos</td>\n",
       "      <td>Entre 500 Y 600</td>\n",
       "      <td>4.0</td>\n",
       "      <td>Alta</td>\n",
       "      <td>No</td>\n",
       "      <td>Profesional</td>\n",
       "      <td>Juan Eslava</td>\n",
       "      <td>28</td>\n",
       "      <td>Yopal</td>\n",
       "      <td>Masculino</td>\n",
       "    </tr>\n",
       "    <tr>\n",
       "      <th>1</th>\n",
       "      <td>5</td>\n",
       "      <td>Administración pública, Finanzas</td>\n",
       "      <td>NaN</td>\n",
       "      <td>Facebook</td>\n",
       "      <td>Entre 100 y 200 mil pesos</td>\n",
       "      <td>Entre 500 Y 600</td>\n",
       "      <td>NaN</td>\n",
       "      <td>Alta</td>\n",
       "      <td>NaN</td>\n",
       "      <td>Profesional</td>\n",
       "      <td>Siomara Andrea Aguilar</td>\n",
       "      <td>26</td>\n",
       "      <td>Aguazul</td>\n",
       "      <td>Femenino</td>\n",
       "    </tr>\n",
       "  </tbody>\n",
       "</table>\n",
       "</div>"
      ],
      "text/plain": [
       "   Disponibilidad a tomar cursos online  \\\n",
       "0                                     5   \n",
       "1                                     5   \n",
       "\n",
       "                                    Areas de interes Otras areas de interes  \\\n",
       "0  Ciencias políticas, Contratación Estatal, Fina...                    NaN   \n",
       "1                   Administración pública, Finanzas                    NaN   \n",
       "\n",
       "    En qué red social confía más Valor a pagar maximo mensual  \\\n",
       "0  Facebook, Instagram, WhatsApp    Entre 100 y 200 mil pesos   \n",
       "1                       Facebook    Entre 100 y 200 mil pesos   \n",
       "\n",
       "  Valor a pagar maximo anual  \\\n",
       "0            Entre 500 Y 600   \n",
       "1            Entre 500 Y 600   \n",
       "\n",
       "   ¿De haber tomado alguno curso, que tan interesad@ está en seguir capacitándose con nosotros  \\\n",
       "0                                                4.0                                             \n",
       "1                                                NaN                                             \n",
       "\n",
       "  Probabilidad de recomendación  \\\n",
       "0                          Alta   \n",
       "1                          Alta   \n",
       "\n",
       "  ¿Que cambiaria a nuestra plataforma de clases? Nivel educativo  \\\n",
       "0                                             No     Profesional   \n",
       "1                                            NaN     Profesional   \n",
       "\n",
       "                   Nombre  Edad    Ciudad     Género  \n",
       "0             Juan Eslava    28     Yopal  Masculino  \n",
       "1  Siomara Andrea Aguilar    26  Aguazul    Femenino  "
      ]
     },
     "execution_count": 4,
     "metadata": {},
     "output_type": "execute_result"
    }
   ],
   "source": [
    "# Asegúrate de que el archivo CSV esté en la ruta correcta y con el nombre correcto\n",
    "data = pd.read_excel('../data/primera encuesta EFPE.xlsx')\n",
    "data.shape\n",
    "data.head(2)\n"
   ]
  },
  {
   "cell_type": "markdown",
   "metadata": {},
   "source": [
    "# obteber la respuesta que más se repite para la pregunta 4"
   ]
  },
  {
   "cell_type": "code",
   "execution_count": 5,
   "metadata": {},
   "outputs": [
    {
     "data": {
      "text/html": [
       "<div>\n",
       "<style scoped>\n",
       "    .dataframe tbody tr th:only-of-type {\n",
       "        vertical-align: middle;\n",
       "    }\n",
       "\n",
       "    .dataframe tbody tr th {\n",
       "        vertical-align: top;\n",
       "    }\n",
       "\n",
       "    .dataframe thead th {\n",
       "        text-align: right;\n",
       "    }\n",
       "</style>\n",
       "<table border=\"1\" class=\"dataframe\">\n",
       "  <thead>\n",
       "    <tr style=\"text-align: right;\">\n",
       "      <th></th>\n",
       "      <th>Red Social</th>\n",
       "      <th>Conteo</th>\n",
       "    </tr>\n",
       "  </thead>\n",
       "  <tbody>\n",
       "    <tr>\n",
       "      <th>0</th>\n",
       "      <td>Instagram</td>\n",
       "      <td>44</td>\n",
       "    </tr>\n",
       "    <tr>\n",
       "      <th>1</th>\n",
       "      <td>Facebook</td>\n",
       "      <td>33</td>\n",
       "    </tr>\n",
       "    <tr>\n",
       "      <th>2</th>\n",
       "      <td>WhatsApp</td>\n",
       "      <td>32</td>\n",
       "    </tr>\n",
       "    <tr>\n",
       "      <th>3</th>\n",
       "      <td>YouTube</td>\n",
       "      <td>25</td>\n",
       "    </tr>\n",
       "    <tr>\n",
       "      <th>4</th>\n",
       "      <td>Me es indiferente</td>\n",
       "      <td>14</td>\n",
       "    </tr>\n",
       "  </tbody>\n",
       "</table>\n",
       "</div>"
      ],
      "text/plain": [
       "          Red Social  Conteo\n",
       "0          Instagram      44\n",
       "1           Facebook      33\n",
       "2           WhatsApp      32\n",
       "3            YouTube      25\n",
       "4  Me es indiferente      14"
      ]
     },
     "execution_count": 5,
     "metadata": {},
     "output_type": "execute_result"
    }
   ],
   "source": [
    "# Primero, dividimos las categorías separadas por comas y expandimos en nuevas filas\n",
    "df_social = data['En qué red social confía más'].str.split(',').explode()\n",
    "\n",
    "# Limpiamos los espacios adicionales antes y después del texto\n",
    "df_social = df_social.str.strip()\n",
    "\n",
    "# Luego, contamos las repeticiones de cada red social\n",
    "social_counts = df_social.value_counts().reset_index()\n",
    "\n",
    "# Se renombran las columnas para que el nuevo dataframe sea más descriptivo\n",
    "social_counts.columns = ['Red Social', 'Conteo']\n",
    "\n",
    "social_counts"
   ]
  },
  {
   "cell_type": "markdown",
   "metadata": {},
   "source": [
    "# plot "
   ]
  },
  {
   "cell_type": "code",
   "execution_count": 6,
   "metadata": {},
   "outputs": [
    {
     "data": {
      "image/png": "[encoded data removed]",
      "text/plain": [
       "<Figure size 640x480 with 1 Axes>"
      ]
     },
     "metadata": {},
     "output_type": "display_data"
    }
   ],
   "source": [
    "sns.barplot(x='Conteo', y='Red Social', data=social_counts)\n",
    "\n",
    "# Agregar etiquetas y título\n",
    "plt.xlabel('Votos a favor')\n",
    "plt.ylabel('Categoría')\n",
    "plt.title('Confianza en redes sociales')\n",
    "plt.show()\n"
   ]
  },
  {
   "cell_type": "code",
   "execution_count": 10,
   "metadata": {},
   "outputs": [
    {
     "data": {
      "image/png": "[encoded data removed]",
      "text/plain": [
       "<Figure size 640x480 with 1 Axes>"
      ]
     },
     "metadata": {},
     "output_type": "display_data"
    }
   ],
   "source": [
    "sns.histplot(data=data,\n",
    "    bins = 50,\n",
    "    x='Edad',\n",
    "    )\n",
    "plt.xticks(rotation=90);"
   ]
  }
 ],
 "metadata": {
  "kernelspec": {
   "display_name": "Python 3",
   "language": "python",
   "name": "python3"
  },
  "language_info": {
   "codemirror_mode": {
    "name": "ipython",
    "version": 3
   },
   "file_extension": ".py",
   "mimetype": "text/x-python",
   "name": "python",
   "nbconvert_exporter": "python",
   "pygments_lexer": "ipython3",
   "version": "3.10.9"
  },
  "orig_nbformat": 4
 },
 "nbformat": 4,
 "nbformat_minor": 2
}
