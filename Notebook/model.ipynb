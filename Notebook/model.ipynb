{
 "cells": [
  {
   "cell_type": "markdown",
   "metadata": {},
   "source": [
    "# <center> <h1>Caracterizar clientes Grupo empresarial EFPE </h1> </center>\n"
   ]
  },
  {
   "cell_type": "markdown",
   "metadata": {},
   "source": [
    "<div style=\"text-align: center;\">\n",
    "    <img src=\"../imagenes/Imagen.jpeg\" style=\"width: 30%;\">\n",
    "</div>\n"
   ]
  },
  {
   "cell_type": "markdown",
   "metadata": {},
   "source": [
    "<div style=\"text-align: justify;\">\n",
    "    <p> Con el propósito de optimizar la estrategia comercial, y obtener resultados robustos, se lleva a cabo análisis de segmentación y caracterización de la encuesta recolectada en el presente estudio. El enfoque de esta sección está enfocado a obtener insights mediante modelos matemáticos identificación de patrones y comportamientos únicos presentes en la audiencia. Este proceso se traducirá en la obtención de conocimientos profundos respaldados por datos cuantitativos, lo que a su vez nos capacitará para una comprensión más sólida de las preferencias, necesidades y perfiles demográficos de los clientes."
   ]
  },
  {
   "cell_type": "markdown",
   "metadata": {},
   "source": [
    "# espacio para dettalar o incertar cuadro de variables relevantess"
   ]
  },
  {
   "cell_type": "code",
   "execution_count": 27,
   "metadata": {},
   "outputs": [],
   "source": [
    "# importar librerías necesarias para el análisis econométrico\n",
    "import pandas as pd\n",
    "from matplotlib import pyplot as ptl\n",
    "from copy import deepcopy\n",
    "import numpy as np\n",
    "%matplotlib inline\n",
    "import seaborn as sns\n",
    "sns.set()\n",
    "from sklearn.linear_model import LogisticRegression\n",
    "from sklearn.model_selection import train_test_split \n",
    "from sklearn.metrics import classification_report"
   ]
  },
  {
   "cell_type": "code",
   "execution_count": 28,
   "metadata": {},
   "outputs": [],
   "source": [
    "# importar data\n",
    "data = pd.read_csv('../data/data.csv', sep = ';', encoding='latin1')"
   ]
  },
  {
   "cell_type": "markdown",
   "metadata": {},
   "source": [
    "## Data transformation"
   ]
  },
  {
   "cell_type": "code",
   "execution_count": 29,
   "metadata": {},
   "outputs": [],
   "source": [
    "data_copy = deepcopy(data)"
   ]
  },
  {
   "cell_type": "code",
   "execution_count": 30,
   "metadata": {},
   "outputs": [],
   "source": [
    "# Eliminar variables innecesarias para el análisis\n",
    "data.drop([\n",
    "    'Marca temporal', '3. Si seleccionó otra, especifique cúal',\n",
    "    '9.  ¿De tener experiencia tomando alguno de nuestros cursos qué le cambiaría, a la plataforma o a las clases?',\n",
    "    '11. Nombre', '12. Celular o correo electrónico. ', '14. Ciudad', 'Dirección de correo electrónico'\n",
    "], axis = 1, inplace = True);"
   ]
  },
  {
   "cell_type": "code",
   "execution_count": 31,
   "metadata": {},
   "outputs": [],
   "source": [
    "# Renombrar las variables a fin de facilitar su manejo\n",
    "data = data.rename(columns= {\n",
    "    '1. ¿Está dispuesto a tomar cursos de educación en linea?, (1 es poco probable y 5 es muy probable)':'dispu_cursos',\n",
    "    '2.  Seleccione una o más areas del conocimiento que está interesado':'area_conoci',\n",
    "    '4. ¿En qué red social confía más, a la hora de recibir publicidad y promociones de productos educativos?  Seleccione varias si lo considera.':'r_social',\n",
    "    '5. ¿Cuánto sería el valor máximo que está dispuesto a pagar por una licencia mensual? (Acceso ilimitado a todos los cursos)':'valor_mes',\n",
    "    '6. ¿Cuánto estaría dispuesto a pagar por una licencia anual? (Misma condición anterior)': 'valor_año',\n",
    "    '7. ¿De haber tomado alguno de nuestros cursos, que tan interesad@ está en seguir capacitándose con nosotros? (Donde 1 es poco y 5 es muy interesado)': 'seguir_efpe',\n",
    "    '8.  ¿Cuál es la probabilidad de que recomiende nuestra empresa a amigos o familiares?': 'y',\n",
    "    '10. ¿En qué nivel educativo se encuentra?': 'educacion',\n",
    "    '13. Edad': 'edad',\n",
    "    '15. Género': 'genero'  \n",
    "})"
   ]
  },
  {
   "cell_type": "markdown",
   "metadata": {},
   "source": [
    "## Encoding features"
   ]
  },
  {
   "cell_type": "code",
   "execution_count": 32,
   "metadata": {},
   "outputs": [
    {
     "data": {
      "text/html": [
       "<div>\n",
       "<style scoped>\n",
       "    .dataframe tbody tr th:only-of-type {\n",
       "        vertical-align: middle;\n",
       "    }\n",
       "\n",
       "    .dataframe tbody tr th {\n",
       "        vertical-align: top;\n",
       "    }\n",
       "\n",
       "    .dataframe thead th {\n",
       "        text-align: right;\n",
       "    }\n",
       "</style>\n",
       "<table border=\"1\" class=\"dataframe\">\n",
       "  <thead>\n",
       "    <tr style=\"text-align: right;\">\n",
       "      <th></th>\n",
       "      <th>dispu_cursos</th>\n",
       "      <th>area_conoci</th>\n",
       "      <th>r_social</th>\n",
       "      <th>valor_mes</th>\n",
       "      <th>valor_año</th>\n",
       "      <th>seguir_efpe</th>\n",
       "      <th>y</th>\n",
       "      <th>educacion</th>\n",
       "      <th>edad</th>\n",
       "      <th>genero</th>\n",
       "    </tr>\n",
       "  </thead>\n",
       "  <tbody>\n",
       "    <tr>\n",
       "      <th>0</th>\n",
       "      <td>5</td>\n",
       "      <td>Ciencias políticas</td>\n",
       "      <td>Facebook</td>\n",
       "      <td>mes 100 a 200</td>\n",
       "      <td>año 500 Y 600</td>\n",
       "      <td>4.0</td>\n",
       "      <td>Alta</td>\n",
       "      <td>Profesional</td>\n",
       "      <td>28</td>\n",
       "      <td>Masculino</td>\n",
       "    </tr>\n",
       "    <tr>\n",
       "      <th>1</th>\n",
       "      <td>5</td>\n",
       "      <td>Administración pública</td>\n",
       "      <td>Facebook</td>\n",
       "      <td>mes 100 a 200</td>\n",
       "      <td>año 500 Y 600</td>\n",
       "      <td>NaN</td>\n",
       "      <td>Alta</td>\n",
       "      <td>Profesional</td>\n",
       "      <td>26</td>\n",
       "      <td>Femenino</td>\n",
       "    </tr>\n",
       "    <tr>\n",
       "      <th>2</th>\n",
       "      <td>3</td>\n",
       "      <td>Ciencias políticas</td>\n",
       "      <td>WhatsApp</td>\n",
       "      <td>mes 50 y 100</td>\n",
       "      <td>año 500 Y 600</td>\n",
       "      <td>2.0</td>\n",
       "      <td>Media</td>\n",
       "      <td>Bachiller</td>\n",
       "      <td>26</td>\n",
       "      <td>Masculino</td>\n",
       "    </tr>\n",
       "  </tbody>\n",
       "</table>\n",
       "</div>"
      ],
      "text/plain": [
       "   dispu_cursos             area_conoci  r_social      valor_mes  \\\n",
       "0             5      Ciencias políticas  Facebook  mes 100 a 200   \n",
       "1             5  Administración pública  Facebook  mes 100 a 200   \n",
       "2             3      Ciencias políticas  WhatsApp   mes 50 y 100   \n",
       "\n",
       "       valor_año  seguir_efpe      y    educacion  edad     genero  \n",
       "0  año 500 Y 600          4.0   Alta  Profesional    28  Masculino  \n",
       "1  año 500 Y 600          NaN   Alta  Profesional    26   Femenino  \n",
       "2  año 500 Y 600          2.0  Media    Bachiller    26  Masculino  "
      ]
     },
     "execution_count": 32,
     "metadata": {},
     "output_type": "execute_result"
    }
   ],
   "source": [
    "# Mostrar los primeros 5 rows\n",
    "data.head(3)"
   ]
  },
  {
   "cell_type": "code",
   "execution_count": 33,
   "metadata": {},
   "outputs": [],
   "source": [
    "# Transfromar variable objetivo\n",
    "\n",
    "# remplazar nan como 1\n",
    "data['seguir_efpe'] = data['seguir_efpe'].fillna(1)\n",
    "\n",
    "# tomar los valores nan de la variable objetivo como Baja\n",
    "data['y'] = data['y'].fillna('Baja')\n",
    "# tomar los valores nan de la variable objetivo como Baja\n",
    "data['y'] = data['y'].fillna('Baja')\n",
    "\n",
    "# 1 si la probabilidad es alta en adquirir la subscription o si no\n",
    "data['y'].replace({'Alta':1, 'Media':0, 'Baja':0}, inplace = True) \n",
    "\n",
    "# convertir a in variable pago maximo mes\n",
    "data['valor_mes'].replace({'Entre 100 y 200 mil pesos':1, 'Media':0, 'Baja':0}, inplace = True) "
   ]
  },
  {
   "cell_type": "code",
   "execution_count": 34,
   "metadata": {},
   "outputs": [
    {
     "data": {
      "text/html": [
       "<div>\n",
       "<style scoped>\n",
       "    .dataframe tbody tr th:only-of-type {\n",
       "        vertical-align: middle;\n",
       "    }\n",
       "\n",
       "    .dataframe tbody tr th {\n",
       "        vertical-align: top;\n",
       "    }\n",
       "\n",
       "    .dataframe thead th {\n",
       "        text-align: right;\n",
       "    }\n",
       "</style>\n",
       "<table border=\"1\" class=\"dataframe\">\n",
       "  <thead>\n",
       "    <tr style=\"text-align: right;\">\n",
       "      <th></th>\n",
       "      <th>dispu_cursos</th>\n",
       "      <th>area_conoci</th>\n",
       "      <th>r_social</th>\n",
       "      <th>valor_mes</th>\n",
       "      <th>valor_año</th>\n",
       "      <th>seguir_efpe</th>\n",
       "      <th>y</th>\n",
       "      <th>educacion</th>\n",
       "      <th>edad</th>\n",
       "      <th>genero</th>\n",
       "    </tr>\n",
       "  </thead>\n",
       "  <tbody>\n",
       "    <tr>\n",
       "      <th>0</th>\n",
       "      <td>5</td>\n",
       "      <td>Ciencias políticas</td>\n",
       "      <td>Facebook</td>\n",
       "      <td>mes 100 a 200</td>\n",
       "      <td>año 500 Y 600</td>\n",
       "      <td>4.0</td>\n",
       "      <td>1</td>\n",
       "      <td>Profesional</td>\n",
       "      <td>28</td>\n",
       "      <td>Masculino</td>\n",
       "    </tr>\n",
       "    <tr>\n",
       "      <th>1</th>\n",
       "      <td>5</td>\n",
       "      <td>Administración pública</td>\n",
       "      <td>Facebook</td>\n",
       "      <td>mes 100 a 200</td>\n",
       "      <td>año 500 Y 600</td>\n",
       "      <td>1.0</td>\n",
       "      <td>1</td>\n",
       "      <td>Profesional</td>\n",
       "      <td>26</td>\n",
       "      <td>Femenino</td>\n",
       "    </tr>\n",
       "  </tbody>\n",
       "</table>\n",
       "</div>"
      ],
      "text/plain": [
       "   dispu_cursos             area_conoci  r_social      valor_mes  \\\n",
       "0             5      Ciencias políticas  Facebook  mes 100 a 200   \n",
       "1             5  Administración pública  Facebook  mes 100 a 200   \n",
       "\n",
       "       valor_año  seguir_efpe  y    educacion  edad     genero  \n",
       "0  año 500 Y 600          4.0  1  Profesional    28  Masculino  \n",
       "1  año 500 Y 600          1.0  1  Profesional    26   Femenino  "
      ]
     },
     "execution_count": 34,
     "metadata": {},
     "output_type": "execute_result"
    }
   ],
   "source": [
    "data.head(2)"
   ]
  },
  {
   "cell_type": "code",
   "execution_count": 35,
   "metadata": {},
   "outputs": [
    {
     "name": "stdout",
     "output_type": "stream",
     "text": [
      "(101, 21)\n"
     ]
    },
    {
     "data": {
      "text/html": [
       "<div>\n",
       "<style scoped>\n",
       "    .dataframe tbody tr th:only-of-type {\n",
       "        vertical-align: middle;\n",
       "    }\n",
       "\n",
       "    .dataframe tbody tr th {\n",
       "        vertical-align: top;\n",
       "    }\n",
       "\n",
       "    .dataframe thead th {\n",
       "        text-align: right;\n",
       "    }\n",
       "</style>\n",
       "<table border=\"1\" class=\"dataframe\">\n",
       "  <thead>\n",
       "    <tr style=\"text-align: right;\">\n",
       "      <th></th>\n",
       "      <th>dispu_cursos</th>\n",
       "      <th>seguir_efpe</th>\n",
       "      <th>y</th>\n",
       "      <th>edad</th>\n",
       "      <th>Ciencia de datos</th>\n",
       "      <th>Ciencias políticas</th>\n",
       "      <th>Contratación Estatal</th>\n",
       "      <th>Finanzas</th>\n",
       "      <th>Finca Raíz</th>\n",
       "      <th>Otro</th>\n",
       "      <th>...</th>\n",
       "      <th>Me es indiferente</th>\n",
       "      <th>WhatsApp</th>\n",
       "      <th>YouTube</th>\n",
       "      <th>mes 300 y 400</th>\n",
       "      <th>mes 50 y 100</th>\n",
       "      <th>año 600 y 700</th>\n",
       "      <th>año 700 y 800</th>\n",
       "      <th>Postgrado</th>\n",
       "      <th>Profesional</th>\n",
       "      <th>Masculino</th>\n",
       "    </tr>\n",
       "  </thead>\n",
       "  <tbody>\n",
       "    <tr>\n",
       "      <th>0</th>\n",
       "      <td>5</td>\n",
       "      <td>4.0</td>\n",
       "      <td>1</td>\n",
       "      <td>28</td>\n",
       "      <td>False</td>\n",
       "      <td>True</td>\n",
       "      <td>False</td>\n",
       "      <td>False</td>\n",
       "      <td>False</td>\n",
       "      <td>False</td>\n",
       "      <td>...</td>\n",
       "      <td>False</td>\n",
       "      <td>False</td>\n",
       "      <td>False</td>\n",
       "      <td>False</td>\n",
       "      <td>False</td>\n",
       "      <td>False</td>\n",
       "      <td>False</td>\n",
       "      <td>False</td>\n",
       "      <td>True</td>\n",
       "      <td>True</td>\n",
       "    </tr>\n",
       "    <tr>\n",
       "      <th>1</th>\n",
       "      <td>5</td>\n",
       "      <td>1.0</td>\n",
       "      <td>1</td>\n",
       "      <td>26</td>\n",
       "      <td>False</td>\n",
       "      <td>False</td>\n",
       "      <td>False</td>\n",
       "      <td>False</td>\n",
       "      <td>False</td>\n",
       "      <td>False</td>\n",
       "      <td>...</td>\n",
       "      <td>False</td>\n",
       "      <td>False</td>\n",
       "      <td>False</td>\n",
       "      <td>False</td>\n",
       "      <td>False</td>\n",
       "      <td>False</td>\n",
       "      <td>False</td>\n",
       "      <td>False</td>\n",
       "      <td>True</td>\n",
       "      <td>False</td>\n",
       "    </tr>\n",
       "  </tbody>\n",
       "</table>\n",
       "<p>2 rows × 21 columns</p>\n",
       "</div>"
      ],
      "text/plain": [
       "   dispu_cursos  seguir_efpe  y  edad  Ciencia de datos  Ciencias políticas  \\\n",
       "0             5          4.0  1    28             False                True   \n",
       "1             5          1.0  1    26             False               False   \n",
       "\n",
       "   Contratación Estatal  Finanzas  Finca Raíz   Otro  ...  Me es indiferente  \\\n",
       "0                 False     False       False  False  ...              False   \n",
       "1                 False     False       False  False  ...              False   \n",
       "\n",
       "   WhatsApp  YouTube  mes 300 y 400  mes 50 y 100  año 600 y 700  \\\n",
       "0     False    False          False         False          False   \n",
       "1     False    False          False         False          False   \n",
       "\n",
       "   año 700 y 800  Postgrado  Profesional  Masculino  \n",
       "0          False      False         True       True  \n",
       "1          False      False         True      False  \n",
       "\n",
       "[2 rows x 21 columns]"
      ]
     },
     "execution_count": 35,
     "metadata": {},
     "output_type": "execute_result"
    }
   ],
   "source": [
    "# Crear variable dummys\n",
    "\n",
    "area_conoci = pd.get_dummies(data['area_conoci'], drop_first= True)\n",
    "r_social = pd.get_dummies(data['r_social'], drop_first= True)\n",
    "valor_mes = pd.get_dummies(data['valor_mes'], drop_first= True)\n",
    "valor_año = pd.get_dummies(data['valor_año'], drop_first= True)\n",
    "educacion = pd.get_dummies(data['educacion'], drop_first= True)\n",
    "genero = pd.get_dummies(data['genero'], drop_first= True)\n",
    "\n",
    "data.drop( [\n",
    "    'area_conoci', 'r_social', 'valor_mes', 'valor_año', 'educacion', 'genero'\n",
    "    ], axis= 1, inplace= True)\n",
    "    \n",
    "# mostar data transformada\n",
    "data =pd.concat([ data, area_conoci, r_social, valor_mes, valor_año, educacion, genero  ], axis= 1)\n",
    "print(data.shape)\n",
    "data.head(2)"
   ]
  },
  {
   "cell_type": "code",
   "execution_count": 36,
   "metadata": {},
   "outputs": [],
   "source": [
    "# crear train y test\n",
    "y = data.y\n",
    "X = data.drop(['y'], axis= 1)"
   ]
  },
  {
   "cell_type": "code",
   "execution_count": 37,
   "metadata": {},
   "outputs": [
    {
     "data": {
      "text/html": [
       "<style>#sk-container-id-1 {color: black;}#sk-container-id-1 pre{padding: 0;}#sk-container-id-1 div.sk-toggleable {background-color: white;}#sk-container-id-1 label.sk-toggleable__label {cursor: pointer;display: block;width: 100%;margin-bottom: 0;padding: 0.3em;box-sizing: border-box;text-align: center;}#sk-container-id-1 label.sk-toggleable__label-arrow:before {content: \"▸\";float: left;margin-right: 0.25em;color: #696969;}#sk-container-id-1 label.sk-toggleable__label-arrow:hover:before {color: black;}#sk-container-id-1 div.sk-estimator:hover label.sk-toggleable__label-arrow:before {color: black;}#sk-container-id-1 div.sk-toggleable__content {max-height: 0;max-width: 0;overflow: hidden;text-align: left;background-color: #f0f8ff;}#sk-container-id-1 div.sk-toggleable__content pre {margin: 0.2em;color: black;border-radius: 0.25em;background-color: #f0f8ff;}#sk-container-id-1 input.sk-toggleable__control:checked~div.sk-toggleable__content {max-height: 200px;max-width: 100%;overflow: auto;}#sk-container-id-1 input.sk-toggleable__control:checked~label.sk-toggleable__label-arrow:before {content: \"▾\";}#sk-container-id-1 div.sk-estimator input.sk-toggleable__control:checked~label.sk-toggleable__label {background-color: #d4ebff;}#sk-container-id-1 div.sk-label input.sk-toggleable__control:checked~label.sk-toggleable__label {background-color: #d4ebff;}#sk-container-id-1 input.sk-hidden--visually {border: 0;clip: rect(1px 1px 1px 1px);clip: rect(1px, 1px, 1px, 1px);height: 1px;margin: -1px;overflow: hidden;padding: 0;position: absolute;width: 1px;}#sk-container-id-1 div.sk-estimator {font-family: monospace;background-color: #f0f8ff;border: 1px dotted black;border-radius: 0.25em;box-sizing: border-box;margin-bottom: 0.5em;}#sk-container-id-1 div.sk-estimator:hover {background-color: #d4ebff;}#sk-container-id-1 div.sk-parallel-item::after {content: \"\";width: 100%;border-bottom: 1px solid gray;flex-grow: 1;}#sk-container-id-1 div.sk-label:hover label.sk-toggleable__label {background-color: #d4ebff;}#sk-container-id-1 div.sk-serial::before {content: \"\";position: absolute;border-left: 1px solid gray;box-sizing: border-box;top: 0;bottom: 0;left: 50%;z-index: 0;}#sk-container-id-1 div.sk-serial {display: flex;flex-direction: column;align-items: center;background-color: white;padding-right: 0.2em;padding-left: 0.2em;position: relative;}#sk-container-id-1 div.sk-item {position: relative;z-index: 1;}#sk-container-id-1 div.sk-parallel {display: flex;align-items: stretch;justify-content: center;background-color: white;position: relative;}#sk-container-id-1 div.sk-item::before, #sk-container-id-1 div.sk-parallel-item::before {content: \"\";position: absolute;border-left: 1px solid gray;box-sizing: border-box;top: 0;bottom: 0;left: 50%;z-index: -1;}#sk-container-id-1 div.sk-parallel-item {display: flex;flex-direction: column;z-index: 1;position: relative;background-color: white;}#sk-container-id-1 div.sk-parallel-item:first-child::after {align-self: flex-end;width: 50%;}#sk-container-id-1 div.sk-parallel-item:last-child::after {align-self: flex-start;width: 50%;}#sk-container-id-1 div.sk-parallel-item:only-child::after {width: 0;}#sk-container-id-1 div.sk-dashed-wrapped {border: 1px dashed gray;margin: 0 0.4em 0.5em 0.4em;box-sizing: border-box;padding-bottom: 0.4em;background-color: white;}#sk-container-id-1 div.sk-label label {font-family: monospace;font-weight: bold;display: inline-block;line-height: 1.2em;}#sk-container-id-1 div.sk-label-container {text-align: center;}#sk-container-id-1 div.sk-container {/* jupyter's `normalize.less` sets `[hidden] { display: none; }` but bootstrap.min.css set `[hidden] { display: none !important; }` so we also need the `!important` here to be able to override the default hidden behavior on the sphinx rendered scikit-learn.org. See: https://github.com/scikit-learn/scikit-learn/issues/21755 */display: inline-block !important;position: relative;}#sk-container-id-1 div.sk-text-repr-fallback {display: none;}</style><div id=\"sk-container-id-1\" class=\"sk-top-container\"><div class=\"sk-text-repr-fallback\"><pre>LogisticRegression(class_weight=&#x27;balanced&#x27;, max_iter=1000)</pre><b>In a Jupyter environment, please rerun this cell to show the HTML representation or trust the notebook. <br />On GitHub, the HTML representation is unable to render, please try loading this page with nbviewer.org.</b></div><div class=\"sk-container\" hidden><div class=\"sk-item\"><div class=\"sk-estimator sk-toggleable\"><input class=\"sk-toggleable__control sk-hidden--visually\" id=\"sk-estimator-id-1\" type=\"checkbox\" checked><label for=\"sk-estimator-id-1\" class=\"sk-toggleable__label sk-toggleable__label-arrow\">LogisticRegression</label><div class=\"sk-toggleable__content\"><pre>LogisticRegression(class_weight=&#x27;balanced&#x27;, max_iter=1000)</pre></div></div></div></div></div>"
      ],
      "text/plain": [
       "LogisticRegression(class_weight='balanced', max_iter=1000)"
      ]
     },
     "execution_count": 37,
     "metadata": {},
     "output_type": "execute_result"
    }
   ],
   "source": [
    "X_train, X_test, y_train, y_test = train_test_split(X,y, test_size= 0.2, random_state=99)\n",
    "modelo = LogisticRegression(class_weight= \"balanced\", max_iter=1000)\n",
    "modelo.fit(X_train, y_train)"
   ]
  },
  {
   "cell_type": "code",
   "execution_count": 39,
   "metadata": {},
   "outputs": [
    {
     "data": {
      "text/plain": [
       "array([0, 0, 1, 1, 1, 0, 0, 1, 1, 1, 0, 0, 1, 0, 0, 1, 1, 0, 1, 0, 0],\n",
       "      dtype=int64)"
      ]
     },
     "execution_count": 39,
     "metadata": {},
     "output_type": "execute_result"
    }
   ],
   "source": [
    "# si no se define queda de .5\n",
    "prediccion_modelo = modelo.predict(X_test)\n",
    "prediccion_modelo"
   ]
  },
  {
   "cell_type": "code",
   "execution_count": 40,
   "metadata": {},
   "outputs": [
    {
     "name": "stdout",
     "output_type": "stream",
     "text": [
      "              precision    recall  f1-score   support\n",
      "\n",
      "           0       0.64      0.78      0.70         9\n",
      "           1       0.80      0.67      0.73        12\n",
      "\n",
      "    accuracy                           0.71        21\n",
      "   macro avg       0.72      0.72      0.71        21\n",
      "weighted avg       0.73      0.71      0.72        21\n",
      "\n"
     ]
    }
   ],
   "source": [
    "# Evaluar modelo\n",
    "print( classification_report(y_test, prediccion_modelo))"
   ]
  }
 ],
 "metadata": {
  "kernelspec": {
   "display_name": "env-EFPE",
   "language": "python",
   "name": "python3"
  },
  "language_info": {
   "codemirror_mode": {
    "name": "ipython",
    "version": 3
   },
   "file_extension": ".py",
   "mimetype": "text/x-python",
   "name": "python",
   "nbconvert_exporter": "python",
   "pygments_lexer": "ipython3",
   "version": "3.10.9"
  },
  "orig_nbformat": 4
 },
 "nbformat": 4,
 "nbformat_minor": 2
}
